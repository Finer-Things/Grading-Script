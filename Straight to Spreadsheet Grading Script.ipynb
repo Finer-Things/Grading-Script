{
 "cells": [
  {
   "cell_type": "markdown",
   "id": "7ec0cdca",
   "metadata": {},
   "source": [
    "# Straight to Spreadsheet Grading Script"
   ]
  },
  {
   "cell_type": "markdown",
   "id": "c624146d",
   "metadata": {},
   "source": [
    "## Task 1) Necessary Setup\n",
    "Before you begin with the script, make sure this script can access all of your grading files by including copies of them inside the folder you are running this script in. \n",
    "\n",
    "Please also make sure they are CSV files, or you will have to modify the \"read_csv\" commands, and in each of these copies please be sure to rename the perm#-like column name to \"SID\". \n",
    "\n",
    "Finally, please be sure to include your \"download roster\" CSV file from egrades among the files you're using. This should be downloaded the same day you're going to run this script so the list of currently registered students is up-to-date. "
   ]
  },
  {
   "cell_type": "code",
   "execution_count": 1,
   "id": "089b879a",
   "metadata": {},
   "outputs": [],
   "source": [
    "import pandas as pd\n",
    "from functools import reduce"
   ]
  },
  {
   "cell_type": "markdown",
   "id": "652c34d9",
   "metadata": {},
   "source": [
    "## Task 2: A List of Filenames\n",
    "In the text below is a list with two empty filenames in it. Please fill it in with filenames for your csv files with student grading info, extending the list as long as you need. Please be sure to put the egrades file at the end of the list. \n",
    "\n",
    "This should be the very last thing you need to do to change the code, so once you've done this just run all of the cells. "
   ]
  },
  {
   "cell_type": "code",
   "execution_count": 2,
   "id": "0a5c12b7",
   "metadata": {},
   "outputs": [],
   "source": [
    "#Filename list\n",
    "filename_list = [\"\", \"\"]\n",
    "\n",
    "#Example list: [\"Math 102A Gradescope Grades.csv\", \"Math 102A Egrades\"]  <<<----with Egrades at the end!!"
   ]
  },
  {
   "cell_type": "markdown",
   "id": "8279868c",
   "metadata": {},
   "source": [
    "This part converts your filename list into a list of dataframes with your student data. It also should strip many of Gradescope's annoying bloat columns. "
   ]
  },
  {
   "cell_type": "code",
   "execution_count": 3,
   "id": "9cf46e3f",
   "metadata": {},
   "outputs": [],
   "source": [
    "dataframe_list = []\n",
    "for filename in filename_list:\n",
    "    df = pd.read_csv(filename)\n",
    "    df.rename(columns = {\"Perm #\": \"SID\"}, inplace = True)\n",
    "    df.rename(columns = {\"ID number\": \"SID\"}, inplace = True)\n",
    "    junk_column_indices = [i for i, column in enumerate(df.columns) \\\n",
    "                           if \"Max Points\" in column \\\n",
    "                           or \"Submission Time\" in column \\\n",
    "                           or \"Lateness\" in column]\n",
    "    df.drop(df.columns[junk_column_indices], axis=1, inplace=True)\n",
    "    dataframe_list.append(df)"
   ]
  },
  {
   "cell_type": "markdown",
   "id": "eb26eefb",
   "metadata": {},
   "source": [
    "## Merging all of the Dataframes Together\n",
    "If you didn't enter an updated egrades roster as the last file on the list above, you will likely not have an accurate list of enrolled students from the end result. "
   ]
  },
  {
   "cell_type": "code",
   "execution_count": 4,
   "id": "cdd0d462",
   "metadata": {},
   "outputs": [],
   "source": [
    "#grades_dataframe = reduce(pd.merge, dataframe_list, on=\"SID\", how =\"right\")\n",
    "grades_dataframe = reduce(lambda x,y : pd.merge(x, y, on=\"SID\", how =\"right\"), dataframe_list)"
   ]
  },
  {
   "cell_type": "markdown",
   "id": "034ae823",
   "metadata": {},
   "source": [
    "## Saving your dataframe as a CSV file. "
   ]
  },
  {
   "cell_type": "code",
   "execution_count": 5,
   "id": "91b45a57",
   "metadata": {},
   "outputs": [],
   "source": [
    "grades_dataframe.to_csv(\"My Spiffy New Spreadsheet.csv\", header=True, index=False)"
   ]
  },
  {
   "cell_type": "markdown",
   "id": "a317a5d4",
   "metadata": {},
   "source": [
    "## Test Column\n",
    "Running this will print out a random sample of 5 of your students. You can also just look for the CSV file and open it. "
   ]
  },
  {
   "cell_type": "code",
   "execution_count": 6,
   "id": "a8bedad2",
   "metadata": {},
   "outputs": [],
   "source": [
    "#print(grades_dataframe.sample(5))"
   ]
  }
 ],
 "metadata": {
  "kernelspec": {
   "display_name": "Python 3 (ipykernel)",
   "language": "python",
   "name": "python3"
  },
  "language_info": {
   "codemirror_mode": {
    "name": "ipython",
    "version": 3
   },
   "file_extension": ".py",
   "mimetype": "text/x-python",
   "name": "python",
   "nbconvert_exporter": "python",
   "pygments_lexer": "ipython3",
   "version": "3.9.7"
  }
 },
 "nbformat": 4,
 "nbformat_minor": 5
}
