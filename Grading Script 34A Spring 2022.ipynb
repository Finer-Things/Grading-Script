{
 "cells": [
  {
   "cell_type": "markdown",
   "id": "f545404f",
   "metadata": {},
   "source": [
    "Math 34A Spring 2022 Grading Script"
   ]
  },
  {
   "cell_type": "markdown",
   "id": "aeaf9d9e",
   "metadata": {},
   "source": [
    "Import Libraries and Functions"
   ]
  },
  {
   "cell_type": "code",
   "execution_count": 1,
   "id": "d6a89616",
   "metadata": {},
   "outputs": [],
   "source": [
    "import math\n",
    "import pandas as pd\n",
    "import numpy as np\n",
    "import seaborn as sns\n",
    "import matplotlib.pyplot as plt\n",
    "\n",
    "\n",
    "from grading_functions import version_merger\n",
    "from grading_functions import letter_grade_assigner\n",
    "from grading_functions import missed_exam_replacer\n",
    "from matplotlib import pyplot as plt"
   ]
  },
  {
   "cell_type": "markdown",
   "id": "a332a70a",
   "metadata": {},
   "source": [
    "Import Files"
   ]
  },
  {
   "cell_type": "code",
   "execution_count": 2,
   "id": "cb908ad7",
   "metadata": {},
   "outputs": [],
   "source": [
    "\"\"\"grades is from Gradescope, \n",
    "roster is the current student list from egrades, \n",
    "webwork is the homework total downloaded from Gauchospace\"\"\"\n",
    "grades = pd.read_csv(\"Math_34A_Spring_2022_Grades.csv\")\n",
    "roster = pd.read_csv(\"Math_34A_Spring_2022_Roster.csv\")\n",
    "webwork = pd.read_csv(\"Math_34A_Spring_2022_Webwork.csv\", na_values=[\"-\"])"
   ]
  },
  {
   "cell_type": "markdown",
   "id": "b84f998b",
   "metadata": {},
   "source": [
    "Creating a Quiz Max Points List quiz_max_points"
   ]
  },
  {
   "cell_type": "code",
   "execution_count": 3,
   "id": "f277c3b5",
   "metadata": {},
   "outputs": [],
   "source": [
    "#Total Quiz Points Column\n",
    "quiz_point_max_columns = [name for name in grades.columns if \"Max Points\" in name and \"quiz\" in name.lower()]\n",
    "#grades[\"QPTot\"] = grades.apply(lambda row: sum([row[name] for name in quiz_point_max_columns]), axis=1)\n",
    "quiz_max_points = grades[quiz_point_max_columns].iloc[1].values"
   ]
  },
  {
   "cell_type": "markdown",
   "id": "5b4fbcdd",
   "metadata": {},
   "source": [
    "1 Renaming columns in all three dataframes for compatability and ease of reading\n",
    "\n",
    "2 Deleting garbage columns from Gradescope's list\n",
    "\n",
    "3 Slimming down the egrades roster and webwork roster to include only what we need for student identification"
   ]
  },
  {
   "cell_type": "code",
   "execution_count": 4,
   "id": "6b07ec9a",
   "metadata": {},
   "outputs": [],
   "source": [
    "#Renameing \"Perm #\" to \"SID\" in Egrades, which may not even be necessary. \n",
    "roster.rename(columns = {\"Perm #\": \"SID\"}, inplace = True)\n",
    "\n",
    "#Renaming the same and the Homework column in Webwork\n",
    "webwork.rename(columns = {\"ID number\": \"SID\"}, inplace = True)\n",
    "webwork.rename(columns = {\"External tool:Webwork (Real)\": \"HWT\"}, inplace = True)\n",
    "\n",
    "#Deleting Garbage Columns\n",
    "junk_column_indices = [i for i, column in enumerate(grades.columns) \\\n",
    "                       if \"Max Points\" in column or \"Submission Time\" in column \\\n",
    "                       or \"Lateness\" in column or column == \"section_name\" or column == \"Email\"]\n",
    "grades.drop(grades.columns[junk_column_indices], axis=1, inplace=True)\n",
    "\n",
    "#Renaming Columns: Homework and quizzes (In grades df)\n",
    "quiz_column_names = [name for name in grades.columns if \"quiz\" in name.lower()]\n",
    "grades.rename(columns = {name: \"Quiz\"+\" \"+str(i+1) for i, name in enumerate(quiz_column_names)}, inplace = True)\n",
    "\n",
    "#Roster and Webwork Operations\n",
    "roster = roster[[\"Enrl Cd\", \"SID\"]]\n",
    "webwork = webwork[[\"SID\", \"HWT\"]]"
   ]
  },
  {
   "cell_type": "markdown",
   "id": "57b79974",
   "metadata": {},
   "source": [
    "Merging the versions of Midterm 1 into a new column and dropping the version columns"
   ]
  },
  {
   "cell_type": "code",
   "execution_count": 5,
   "id": "bf80a90f",
   "metadata": {},
   "outputs": [],
   "source": [
    "midterm1_version_list = [\"Midterm 1 Gold\", \"Midterm 1 Blue\"]\n",
    "grades[\"Midterm 1\"] = grades.apply(lambda row: version_merger(row, midterm1_version_list), axis=1)\n",
    "grades.drop(columns=midterm1_version_list, axis=1, inplace=True)"
   ]
  },
  {
   "cell_type": "markdown",
   "id": "2701feff",
   "metadata": {},
   "source": [
    "Debugging code for the upcomming dataframe merge with a description. "
   ]
  },
  {
   "cell_type": "code",
   "execution_count": 6,
   "id": "aa00310e",
   "metadata": {},
   "outputs": [
    {
     "data": {
      "text/plain": [
       "'The merge below was halted because one perm # begins with an X, \\nand I suspect this forced the data type for everything in the \\ncolumn imported to be considered an \"object\". This was fixed by me \\ngoing into the file and changing the perm number with an X in it \\nto match the other perm number. Here are two trouble-shooting commands to help with that issue (commented out):'"
      ]
     },
     "execution_count": 6,
     "metadata": {},
     "output_type": "execute_result"
    }
   ],
   "source": [
    "\"\"\"The merge below was halted because one perm # begins with an X, \n",
    "and I suspect this forced the data type for everything in the \n",
    "column imported to be considered an \"object\". This was fixed by me \n",
    "going into the file and changing the perm number with an X in it \n",
    "to match the other perm number. Here are two trouble-shooting commands to help with that issue (commented out):\"\"\"\n",
    "#print(roster.SID.info())\n",
    "#print(grades.SID.info())\n",
    "#print(roster.SID)\n",
    "#print(grades.SID)"
   ]
  },
  {
   "cell_type": "markdown",
   "id": "56147114",
   "metadata": {},
   "source": [
    "Merge the Three Dataframes"
   ]
  },
  {
   "cell_type": "code",
   "execution_count": 7,
   "id": "b335d8cf",
   "metadata": {},
   "outputs": [],
   "source": [
    "#merging Gradescope and Egrades\n",
    "grades_merge_one = pd.merge(grades, roster, on=\"SID\", how =\"right\")\n",
    "#merging the result and Webwork\n",
    "grades_for_submission = pd.merge(webwork, grades_merge_one, on=\"SID\", how =\"right\")"
   ]
  },
  {
   "cell_type": "markdown",
   "id": "3a3041d2",
   "metadata": {},
   "source": [
    "More pruning of columns - I'm not sure if this is necessary because it looks like the same was done for the Gradescope file. Maybe it's also done for the egrades list - and this could be done at the beginning. "
   ]
  },
  {
   "cell_type": "code",
   "execution_count": 8,
   "id": "fbb824c7",
   "metadata": {},
   "outputs": [],
   "source": [
    "#Prune more columns from general roster\n",
    "junk_column_indices = [i for i, column in enumerate(grades_for_submission.columns) \\\n",
    "                       if \"Pronouns\" in column or \"Enroll Code\" in column \\\n",
    "                       or \"Lateness\" in column or column == \"section_name\" or column == \"Email\"]\n",
    "grades_for_submission.drop(grades_for_submission.columns[junk_column_indices], axis=1, inplace=True)"
   ]
  },
  {
   "cell_type": "markdown",
   "id": "c187f87e",
   "metadata": {},
   "source": [
    "Scaling the Midterm Scores to make them out of 100. Their column names are also shortened to make the spreadsheet easier to read when you open the file. "
   ]
  },
  {
   "cell_type": "code",
   "execution_count": 9,
   "id": "fd4ddb7b",
   "metadata": {},
   "outputs": [],
   "source": [
    "#Scaling the Midterms\n",
    "grades_for_submission[\"M1\"] = np.round(grades_for_submission[\"Midterm 1\"]*4, decimals=1)\n",
    "grades_for_submission[\"M2\"] = np.round(100*grades_for_submission[\"Midterm 2\"]/23, decimals=1)\n",
    "grades_for_submission[\"M3\"] = np.round(100*grades_for_submission[\"Midterm 3\"]/40, decimals=1)\n",
    "#Drop Midterm Point Columns\n",
    "grades_for_submission.drop(columns=[\"Midterm 1\", \"Midterm 2\", \"Midterm 3\"], axis=1, inplace=True)"
   ]
  },
  {
   "cell_type": "markdown",
   "id": "78afebb0",
   "metadata": {},
   "source": [
    "Adjusting Quiz Grades to account for excused absences. "
   ]
  },
  {
   "cell_type": "code",
   "execution_count": 10,
   "id": "9eec720c",
   "metadata": {},
   "outputs": [],
   "source": [
    "#Missing Quiz Corrections -- Ugh!\n",
    "#Starting with Two full quizzes: Trevor's cover left all of the quizzes out on a table in the tea room\n",
    "trevor_df = pd.read_csv(\"Excused Tests/Trevor's Students.csv\")\n",
    "trevor_students = list(trevor_df[\"SID\"])\n",
    "#Quiz Totals List (by quiz number, index needs to be shifted by 1 of course)\n",
    "#Quiz Replacement (100%)\n",
    "# def missed_quiz_replacer(row, list, i):\n",
    "#     if row[\"SID\"] in list:\n",
    "#         return quiz_max_points[i-1]\n",
    "#     else:\n",
    "#         return row[\"Quiz \"+str(i)]\n",
    "# for i in [4,6]:\n",
    "#     grades_for_submission[\"Quiz \"+str(i)] = grades_for_submission.apply(lambda row: np.round(missed_quiz_replacer(row,\n",
    "#                                                                              trevor_students, i), \n",
    "#                                                     decimals=1),\n",
    "#                                 axis=1)\n",
    "#Quiz Replacement (100%) for everyone else\n",
    "# for i in range(1,11):\n",
    "#     quiz_df = pd.read_csv(\"Excused Tests/Quiz \"+str(i)+\" Excused Students.csv\")\n",
    "#     students = list(quiz_df[\"SID\"])\n",
    "#     grades_for_submission[\"Quiz \"+str(i)] = grades_for_submission.apply(lambda row: np.round(missed_quiz_replacer(row,\n",
    "#                                                                              students, i), \n",
    "#                                                     decimals=1),\n",
    "#                                 axis=1)\n"
   ]
  },
  {
   "cell_type": "code",
   "execution_count": 11,
   "id": "a293532d",
   "metadata": {},
   "outputs": [
    {
     "name": "stdout",
     "output_type": "stream",
     "text": [
      "13.0 35 37.142857142857146\n",
      "0.0 29 0.0\n",
      "18.0 31 58.064516129032256\n",
      "23.0 40 57.5\n",
      "20.0 29 68.96551724137932\n",
      "19.0 29 65.51724137931035\n",
      "4.0 18 22.22222222222222\n",
      "22.0 40 55.0\n",
      "27.0 29 93.10344827586206\n",
      "21.0 29 72.41379310344827\n",
      "11.0 40 27.5\n",
      "17.0 29 58.62068965517241\n",
      "14.0 19 73.6842105263158\n",
      "21.0 35 60.0\n",
      "19.0 40 47.5\n",
      "12.0 40 30.0\n",
      "15.0 37 40.54054054054054\n",
      "18.0 40 45.0\n",
      "20.0 26 76.92307692307692\n",
      "31.0 40 77.5\n",
      "21.0 29 72.41379310344827\n",
      "22.0 36 61.111111111111114\n",
      "25.0 40 62.5\n",
      "28.0 34 82.3529411764706\n",
      "22.0 29 75.86206896551724\n",
      "8.0 29 27.586206896551722\n",
      "20.0 37 54.054054054054056\n",
      "22.0 29 75.86206896551724\n",
      "17.0 37 45.945945945945944\n",
      "26.0 29 89.65517241379311\n",
      "26.0 40 65.0\n",
      "12.0 29 41.37931034482759\n",
      "19.0 35 54.285714285714285\n",
      "21.0 40 52.5\n",
      "5.0 40 12.5\n",
      "26.0 40 65.0\n",
      "17.0 40 42.5\n",
      "27.0 29 93.10344827586206\n",
      "35.0 40 87.5\n",
      "14.0 40 35.0\n",
      "10.0 29 34.48275862068966\n",
      "9.0 30 30.0\n",
      "17.0 40 42.5\n",
      "16.0 32 50.0\n",
      "32.0 40 80.0\n",
      "9.0 35 25.714285714285715\n",
      "22.0 29 75.86206896551724\n",
      "25.0 29 86.20689655172414\n",
      "10.0 29 34.48275862068966\n",
      "11.0 29 37.93103448275862\n",
      "16.0 40 40.0\n",
      "30.0 40 75.0\n",
      "24.0 39 61.53846153846154\n",
      "18.0 40 45.0\n",
      "2.0 29 6.896551724137931\n",
      "12.0 29 41.37931034482759\n",
      "24.0 29 82.75862068965517\n",
      "26.0 35 74.28571428571429\n",
      "18.0 36 50.0\n",
      "24.0 26 92.3076923076923\n",
      "21.0 35 60.0\n",
      "29.0 40 72.5\n",
      "22.0 34 64.70588235294117\n",
      "14.0 37 37.83783783783784\n",
      "16.0 29 55.172413793103445\n",
      "15.0 40 37.5\n",
      "13.0 35 37.142857142857146\n",
      "12.0 36 33.333333333333336\n",
      "28.0 29 96.55172413793103\n",
      "34.0 40 85.0\n",
      "26.0 40 65.0\n",
      "22.0 40 55.0\n",
      "6.0 29 20.689655172413794\n",
      "29.0 40 72.5\n",
      "16.0 29 55.172413793103445\n",
      "25.0 29 86.20689655172414\n",
      "19.0 40 47.5\n",
      "11.0 40 27.5\n",
      "5.0 29 17.24137931034483\n",
      "30.0 40 75.0\n",
      "14.0 29 48.275862068965516\n",
      "13.0 36 36.111111111111114\n",
      "28.0 29 96.55172413793103\n",
      "16.0 40 40.0\n",
      "0.0 40 0.0\n",
      "16.0 32 50.0\n",
      "23.0 40 57.5\n",
      "11.0 24 45.833333333333336\n",
      "16.0 29 55.172413793103445\n",
      "10.0 40 25.0\n",
      "30.0 39 76.92307692307692\n",
      "25.0 31 80.64516129032258\n",
      "30.0 40 75.0\n",
      "31.0 40 77.5\n",
      "19.0 29 65.51724137931035\n",
      "12.0 29 41.37931034482759\n",
      "22.0 29 75.86206896551724\n",
      "33.0 40 82.5\n",
      "12.0 23 52.17391304347826\n",
      "25.0 29 86.20689655172414\n",
      "9.0 29 31.03448275862069\n",
      "24.0 40 60.0\n",
      "25.0 40 62.5\n",
      "14.0 35 40.0\n",
      "24.0 35 68.57142857142857\n",
      "19.0 40 47.5\n",
      "13.0 26 50.0\n",
      "5.0 35 14.285714285714286\n",
      "14.0 34 41.1764705882353\n",
      "17.0 34 50.0\n",
      "19.0 40 47.5\n",
      "0.0 40 0.0\n",
      "26.0 40 65.0\n",
      "21.0 29 72.41379310344827\n",
      "24.0 29 82.75862068965517\n",
      "28.0 29 96.55172413793103\n",
      "21.0 37 56.75675675675676\n",
      "4.0 29 13.793103448275861\n",
      "21.0 40 52.5\n",
      "31.0 40 77.5\n",
      "25.0 37 67.56756756756756\n",
      "19.0 40 47.5\n",
      "31.0 40 77.5\n",
      "22.0 35 62.857142857142854\n",
      "24.0 40 60.0\n",
      "24.0 40 60.0\n",
      "29.0 40 72.5\n",
      "11.0 40 27.5\n",
      "18.0 29 62.06896551724138\n",
      "13.0 29 44.827586206896555\n",
      "15.0 40 37.5\n",
      "19.0 29 65.51724137931035\n",
      "0.0 40 0.0\n",
      "32.0 40 80.0\n",
      "23.0 40 57.5\n",
      "17.0 26 65.38461538461539\n",
      "24.0 40 60.0\n",
      "27.0 40 67.5\n",
      "15.0 29 51.724137931034484\n",
      "13.0 39 33.333333333333336\n",
      "0.0 26 0.0\n",
      "23.0 40 57.5\n",
      "24.0 40 60.0\n",
      "22.0 29 75.86206896551724\n",
      "23.0 40 57.5\n",
      "27.0 40 67.5\n",
      "17.0 29 58.62068965517241\n",
      "15.0 40 37.5\n",
      "29.0 40 72.5\n",
      "29.0 40 72.5\n",
      "25.0 29 86.20689655172414\n",
      "37.0 40 92.5\n",
      "20.0 26 76.92307692307692\n",
      "21.0 29 72.41379310344827\n",
      "12.0 40 30.0\n",
      "14.0 29 48.275862068965516\n",
      "0.0 40 0.0\n",
      "27.0 36 75.0\n",
      "34.0 40 85.0\n",
      "21.0 29 72.41379310344827\n",
      "13.0 29 44.827586206896555\n",
      "1.0 29 3.4482758620689653\n",
      "15.0 37 40.54054054054054\n",
      "10.0 39 25.641025641025642\n",
      "21.0 26 80.76923076923077\n",
      "32.0 40 80.0\n",
      "24.0 40 60.0\n",
      "18.0 29 62.06896551724138\n",
      "6.0 29 20.689655172413794\n",
      "0.0 40 0.0\n",
      "8.0 29 27.586206896551722\n",
      "23.0 32 71.875\n",
      "18.0 37 48.648648648648646\n",
      "0.0 40 0.0\n",
      "22.0 29 75.86206896551724\n",
      "24.0 40 60.0\n",
      "10.0 40 25.0\n",
      "12.0 35 34.285714285714285\n",
      "20.0 35 57.142857142857146\n",
      "20.0 29 68.96551724137932\n",
      "20.0 26 76.92307692307692\n",
      "19.0 40 47.5\n",
      "15.0 40 37.5\n",
      "11.0 40 27.5\n",
      "22.0 34 64.70588235294117\n",
      "20.0 40 50.0\n",
      "26.0 29 89.65517241379311\n",
      "29.0 34 85.29411764705883\n",
      "18.0 29 62.06896551724138\n",
      "29.0 40 72.5\n",
      "28.0 40 70.0\n",
      "26.0 39 66.66666666666667\n",
      "16.0 26 61.53846153846154\n",
      "19.0 29 65.51724137931035\n",
      "16.0 26 61.53846153846154\n",
      "28.0 40 70.0\n",
      "26.0 40 65.0\n",
      "28.0 36 77.77777777777777\n",
      "19.0 29 65.51724137931035\n",
      "8.0 29 27.586206896551722\n",
      "19.0 40 47.5\n",
      "18.0 37 48.648648648648646\n",
      "24.0 40 60.0\n",
      "17.0 20 85.0\n",
      "15.0 40 37.5\n",
      "6.0 40 15.0\n",
      "28.0 40 70.0\n",
      "6.0 34 17.647058823529413\n",
      "13.0 37 35.13513513513514\n",
      "16.0 40 40.0\n",
      "14.0 29 48.275862068965516\n",
      "18.0 40 45.0\n",
      "27.0 37 72.97297297297297\n",
      "18.0 34 52.94117647058823\n",
      "31.0 40 77.5\n",
      "0.0 40 0.0\n",
      "0.0 40 0.0\n",
      "20.0 40 50.0\n",
      "23.0 40 57.5\n",
      "36.0 40 90.0\n",
      "19.0 40 47.5\n",
      "28.0 40 70.0\n",
      "19.0 29 65.51724137931035\n",
      "21.0 40 52.5\n",
      "27.0 40 67.5\n",
      "25.0 40 62.5\n",
      "22.0 29 75.86206896551724\n",
      "16.0 36 44.44444444444444\n",
      "19.0 26 73.07692307692308\n"
     ]
    }
   ],
   "source": [
    "missing_quiz_matrix = grades_for_submission[[\"SID\"]].copy()\n",
    "#excused_list_points\n",
    "for i in range(1,len(quiz_max_points)+1):\n",
    "    quiz_df = pd.read_csv(\"Excused Tests/Quiz \"+str(i)+\" Excused Students.csv\")\n",
    "    excused_list = list(quiz_df[\"SID\"])\n",
    "    missing_quiz_matrix[\"Quiz \"+str(i)+\"-\"] = grades_for_submission.fillna(0).apply(lambda row: (0,quiz_max_points[i-1]) if row[\"SID\"] in excused_list or (i in [4,6] and row[\"SID\"] in trevor_students) else (row[\"Quiz \"+str(i)],0), axis=1)\n",
    "\n",
    "#print(grades_for_submission.head())\n",
    "def average_calculator(row):\n",
    "    points_earned = sum([row[\"Quiz \"+str(i)+\"-\"][0] for i in range (1,len(quiz_max_points)+1)])\n",
    "    total_points = sum(quiz_max_points)-sum([row[\"Quiz \"+str(i)+\"-\"][1] for i in range(1,len(quiz_max_points)+1)])\n",
    "    if i < 20:\n",
    "        print(points_earned, total_points, 100*points_earned/total_points)\n",
    "    return 100*points_earned/total_points\n",
    "                                            \n",
    "grades_for_submission[\"QT\"] = missing_quiz_matrix.apply(average_calculator, axis=1)\n",
    "\n",
    "for i in range(1,len(quiz_max_points)+1):\n",
    "    grades_for_submission[\"Quiz \"+str(i)] = grades_for_submission.apply(lambda row: np.round(row[\"QT\"]/100*quiz_max_points[i-1], decimals=1) if row[\"SID\"] in excused_list or (i in [4,6] and row[\"SID\"] in trevor_students) else row[\"Quiz \"+str(i)], axis=1)\n",
    "\n",
    "#grades_for_submission[\"QT1\"] = missing_quiz_matrix[\"Quiz Average\"]"
   ]
  },
  {
   "cell_type": "markdown",
   "id": "d865720d",
   "metadata": {},
   "source": [
    "Now columns are everywhere! This block sorts the columns and puts the key ones in the front. "
   ]
  },
  {
   "cell_type": "code",
   "execution_count": 12,
   "id": "0bdcb1cd",
   "metadata": {},
   "outputs": [],
   "source": [
    "#Let's sort the columns and shorten the name of the data set (so gfs will be grades_for_submission sorted)\n",
    "gfs_copy = grades_for_submission.copy()\n",
    "#first_columns = [\"First Name\", \"Last Name\", \"Enrl Cd\", \"SID\", \"Grade\", \"ClassLevel\", \"Major1\", \"Major2\"]\n",
    "first_columns = [\"First Name\", \"Last Name\", \"Enrl Cd\", \"SID\"]\n",
    "gfs_copy.drop(first_columns, axis=1, inplace=True)\n",
    "gfs_copy = gfs_copy[sorted(gfs_copy.columns)]\n",
    "gfs = gfs_copy.copy()\n",
    "for i, info_col in enumerate(first_columns):\n",
    "    gfs.insert(i, info_col, grades_for_submission[info_col], True)"
   ]
  },
  {
   "cell_type": "markdown",
   "id": "1c4c6b44",
   "metadata": {},
   "source": [
    "Creating a Quiz Total column and an Adjusted Quiz Total column to account for the Quiz Reflections: x% of their missing points should be added, where x is their score on \"Q Reflection for Improvement.\" I also named the grading item \"Q Reflections...\" instead of \"Quiz Reflections\" because otherwise the script above would have renamed it something like \"Quiz 11.\" Finally, I commented out the \"QT\" column definition because I later used it above to compute a percentage that did not count missed quizzes that were excused. "
   ]
  },
  {
   "cell_type": "code",
   "execution_count": 13,
   "id": "b4fa48db",
   "metadata": {},
   "outputs": [],
   "source": [
    "#Quiz Total Column\n",
    "quiz_list=[\"Quiz \"+str(i) for i in range(1,len(quiz_column_names)+1)]\n",
    "#gfs[\"QT\"] = gfs[quiz_list].sum(axis=1)*100/sum(quiz_max_points)\n",
    "#Adjusting the Quiz Total to include missing points\n",
    "missing_quiz_point_multiplier = gfs[\"Q Reflection for Improvement\"].fillna(0)/200\n",
    "gfs[\"QTA\"] = gfs[\"QT\"] + (100-gfs[\"QT\"])*missing_quiz_point_multiplier"
   ]
  },
  {
   "cell_type": "markdown",
   "id": "3ac8e67d",
   "metadata": {},
   "source": [
    "Convert the \"Final Exam\" raw score into a \"Final\" entry with a percent value. "
   ]
  },
  {
   "cell_type": "code",
   "execution_count": 14,
   "id": "58f7d553",
   "metadata": {},
   "outputs": [],
   "source": [
    "final_point_total = 72\n",
    "gfs[\"Final\"] = np.round(gfs[\"Final Exam\"]*100/final_point_total, decimals=1)"
   ]
  },
  {
   "cell_type": "markdown",
   "id": "d9c67e7b",
   "metadata": {},
   "source": [
    "Excused Missing Midterms will be replaced with the final percentage (that was just calculated). "
   ]
  },
  {
   "cell_type": "code",
   "execution_count": 15,
   "id": "783c2121",
   "metadata": {},
   "outputs": [],
   "source": [
    "#Replacing Midterm Entries for Excused Absences (that midterm is replaced w/ the final score)\n",
    "for i in range(1,4):\n",
    "    excused_df = pd.read_csv(\"Excused Tests/Midterm \"+str(i)+\" Excused Students.csv\")\n",
    "    students_list = list(excused_df[\"SID\"])\n",
    "    gfs[\"M\"+str(i)] = gfs.apply(lambda row: np.round(missed_exam_replacer(row,\n",
    "                                                                             students_list, \n",
    "                                                                            \"M\"+str(i), \n",
    "                                                                            \"Final\"), \n",
    "                                                    decimals=1),\n",
    "                                axis=1)\n",
    "\n",
    "#Final Replacement will be done below because we need to replace the final with the midterm average"
   ]
  },
  {
   "cell_type": "markdown",
   "id": "7e52b379",
   "metadata": {},
   "source": [
    "Computing the Midterm Average: First as a raw percentage as the average of the two highest midterms, which is congruent with making the third midterm optional. In practice, I added the three, dropped the minimum, and then divided by two. I could not find a way to just \"drop the lowest,\" though I strongly suspect there is a command for this. \n",
    "\n",
    "MTA is the adjusted midterm average, with x% of the missing points returned based on the x% completed for the midterm reflections assignment. "
   ]
  },
  {
   "cell_type": "code",
   "execution_count": 16,
   "id": "d7256bbd",
   "metadata": {},
   "outputs": [],
   "source": [
    "#Two New Midterm Grade Columns (Raw Average and \"MT\" that drops the lowest midterm) -- I dropped \"Raw Average\" below\n",
    "gfs[\"Raw Midterm Average\"] = gfs.apply(lambda row: (row.fillna(0)[\"M1\"]+row.fillna(0)[\"M2\"]+row.fillna(0)[\"M3\"])/3\n",
    "                                                                     , axis = 1)\n",
    "gfs[\"MT\"] = gfs.apply(lambda row: (3*row[\"Raw Midterm Average\"] - np.min([row.fillna(0)[\"M1\"],row.fillna(0)[\"M2\"],\n",
    "                                                                          row.fillna(0)[\"M3\"]]))/2, axis = 1)\n",
    "#Adjusting the Midterm Total to include missing points\n",
    "missing_midterm_point_multiplier = gfs[\"Exam Reflection for Improvement\"].fillna(0)/200\n",
    "gfs[\"MTA\"] = gfs[\"MT\"] + (100-gfs[\"MT\"])*missing_midterm_point_multiplier\n",
    "gfs.drop(columns=[\"Raw Midterm Average\"], axis=1, inplace=True)"
   ]
  },
  {
   "cell_type": "markdown",
   "id": "af2c83b4",
   "metadata": {},
   "source": [
    "There were some students who had documented sickness during the final exam. This used the list of SIDs sent to me by my TAs and based on that list, replaced those students' final scores with their adjusted midterm average. "
   ]
  },
  {
   "cell_type": "code",
   "execution_count": 17,
   "id": "b4f2e0f7",
   "metadata": {},
   "outputs": [],
   "source": [
    "##Replacing Final Entries for Excused Absences (that midterm is replaced w/ the final score)\n",
    "final_df = pd.read_csv(\"Excused Tests/Final Exam Excused Students.csv\")\n",
    "final_missed = list(final_df[\"SID\"])\n",
    "gfs[\"Final\"] = gfs.apply(lambda row: missed_exam_replacer(row, final_missed, \"Final\", \"MTA\"), \n",
    "                                axis=1)\n",
    "#gfs[\"Final na0\"] = gfs[\"Final\"].fillna(0)"
   ]
  },
  {
   "cell_type": "markdown",
   "id": "00790e5c",
   "metadata": {},
   "source": [
    "Computing the \"Grade\" and \"Letter Grade\" columns, now that all of the information is adjusted as intended. "
   ]
  },
  {
   "cell_type": "code",
   "execution_count": 18,
   "id": "fb62e42f",
   "metadata": {},
   "outputs": [],
   "source": [
    "#Grade Column\n",
    "gfs[\"Grade\"] = gfs.apply(lambda row: .1*row[\"QTA\"] + .2*row[\"HWT\"] + .4*row[\"MTA\"] + .3*row.fillna(0)[\"Final\"] + 3,\n",
    "                        axis=1)\n",
    "    \n",
    "\n",
    "#Letter Grade Column\n",
    "gfs[\"Letter Grade\"] = gfs.apply(lambda row: letter_grade_assigner(row), axis=1)\n",
    "\n",
    "#ordering columns for Egrades Submission and my sanity\n",
    "first_columns = [\"SID\", \"Enrl Cd\", \"Letter Grade\", \"Final\", \"MTA\", \"HWT\", \"QTA\"]\n",
    "temp_columns = gfs[first_columns]\n",
    "gfs.drop(columns=first_columns, axis=1, inplace=True)\n",
    "for (i, col_name) in enumerate(first_columns):\n",
    "    gfs.insert(i, col_name, temp_columns[col_name])"
   ]
  },
  {
   "cell_type": "markdown",
   "id": "d50592f0",
   "metadata": {},
   "source": [
    "Saving the gfs dataframe as a CSV file. "
   ]
  },
  {
   "cell_type": "code",
   "execution_count": 19,
   "id": "a264bfcb",
   "metadata": {},
   "outputs": [],
   "source": [
    "#Save gfs df to a file\n",
    "gfs.to_csv('Math_34A_Winter_2022_Grades_python_output.csv', header=True, index=False)"
   ]
  },
  {
   "cell_type": "markdown",
   "id": "a38e1be6",
   "metadata": {},
   "source": [
    "CSV file for Egrades"
   ]
  },
  {
   "cell_type": "code",
   "execution_count": 20,
   "id": "863a9a8b",
   "metadata": {},
   "outputs": [],
   "source": [
    "##Slim Format for Submission\n",
    "\"Enrl Cd\", \"SID\"\n",
    "gfs_slim = gfs[[\"Enrl Cd\", \"SID\", \"Letter Grade\"]]\n",
    "gfs_slim.to_csv('Math 34A Egrades List Spring 22.csv', header=True, index=False)"
   ]
  },
  {
   "cell_type": "markdown",
   "id": "f63bb099",
   "metadata": {},
   "source": [
    "List and Plot of Letter Grades"
   ]
  },
  {
   "cell_type": "code",
   "execution_count": 21,
   "id": "fff8e8f7",
   "metadata": {},
   "outputs": [
    {
     "name": "stdout",
     "output_type": "stream",
     "text": [
      "Grade distribution for the whole class\n",
      "Letter Grade\n",
      "A     28\n",
      "A+    54\n",
      "A-    23\n",
      "B     45\n",
      "B+    19\n",
      "B-     1\n",
      "C      2\n",
      "C+     2\n",
      "C-     3\n",
      "D      4\n",
      "D+     2\n",
      "F     46\n",
      "Name: Letter Grade, dtype: int64\n"
     ]
    },
    {
     "data": {
      "text/plain": [
       "<AxesSubplot:xlabel='Letter Grade'>"
      ]
     },
     "execution_count": 21,
     "metadata": {},
     "output_type": "execute_result"
    },
    {
     "data": {
      "image/png": "[encoded data removed]",
      "text/plain": [
       "<Figure size 432x288 with 1 Axes>"
      ]
     },
     "metadata": {
      "needs_background": "light"
     },
     "output_type": "display_data"
    }
   ],
   "source": [
    "#Letter Grade Distribution\n",
    "print(\"Grade distribution for the whole class\")\n",
    "grade_dist = gfs.groupby(by=\"Letter Grade\")\n",
    "print(grade_dist[\"Letter Grade\"].count())\n",
    "index = ['F', 'D-', 'D',\n",
    "         'D+', \"C-\", \"C\", \"C+\", \"B-\", \"B\", \"B+\", \"A-\", \"A\", \"A+\"]\n",
    "letter_grades = gfs[\"Letter Grade\"].count()\n",
    "df = pd.DataFrame({'Letter Grade': letter_grades}, index=index)\n",
    "\n",
    "grade_dist[\"Letter Grade\"].count().plot.bar(rot=0)"
   ]
  },
  {
   "cell_type": "markdown",
   "id": "67bbf963",
   "metadata": {},
   "source": [
    "Same as above, only restricted to students who either took the final or had a documented medical excuse. "
   ]
  },
  {
   "cell_type": "code",
   "execution_count": 22,
   "id": "62b067ac",
   "metadata": {},
   "outputs": [
    {
     "name": "stdout",
     "output_type": "stream",
     "text": [
      "\n",
      " \n",
      " Grade distribution for only students who took the final\n",
      "Letter Grade\n",
      "F               46\n",
      "D-               0\n",
      "D                4\n",
      "D+               2\n",
      "C-               3\n",
      "C                2\n",
      "C+               2\n",
      "B-               1\n",
      "B               45\n",
      "B+              19\n",
      "A-              23\n",
      "A               28\n",
      "A+              54\n",
      "dtype: int64\n"
     ]
    },
    {
     "data": {
      "image/png": "[encoded data removed]",
      "text/plain": [
       "<Figure size 432x288 with 1 Axes>"
      ]
     },
     "metadata": {
      "needs_background": "light"
     },
     "output_type": "display_data"
    }
   ],
   "source": [
    "#Letter Grade Distribution  \n",
    "print(\"\\n\",\"\\n\",\"Grade distribution for only students who took the final\")\n",
    "gfs[\"Letter Grade\"] = pd.Categorical(gfs[\"Letter Grade\"], ['F', 'D-', 'D', \n",
    "                                                           'D+', \"C-\", \"C\", \n",
    "                                                           \"C+\", \"B-\", \"B\", \n",
    "                                                           \"B+\", \"A-\", \"A\", \n",
    "                                                           \"A+\"], \n",
    "                                     ordered = True\n",
    "                                    )\n",
    "\n",
    "\n",
    "grade_dist = gfs[[\"Letter Grade\", \"Final Exam\"]].dropna().groupby(by=\"Letter Grade\")\n",
    "print(gfs.value_counts(subset=[\"Letter Grade\"])[['F', 'D-', 'D','D+', \"C-\", \"C\", \n",
    "                                                \"C+\", \"B-\", \"B\", \"B+\", \"A-\", \"A\", \"A+\"]])\n",
    "index = ['F', 'D-', 'D',\n",
    "         'D+', \"C-\", \"C\", \"C+\", \"B-\", \"B\", \"B+\", \"A-\", \"A\", \"A+\"]\n",
    "letter_grades = gfs[\"Letter Grade\"].count()\n",
    "df = pd.DataFrame({'Letter Grade': letter_grades}, index=index)\n",
    "\n",
    "gfs[[\"Letter Grade\", \"Final Exam\"]].dropna().value_counts(subset=[\"Letter Grade\"])[['F', 'D-', 'D',\n",
    "         'D+', \"C-\", \"C\", \"C+\", \"B-\", \"B\", \"B+\", \"A-\", \"A\", \"A+\"]].plot.barh(rot=0)\n",
    "\n",
    "plt.savefig(\"Images\\Grade Distribution Bar Chart.png\")\n",
    "#grade_dist[\"Letter Grade\"].count().plot.bar(rot=0)"
   ]
  },
  {
   "cell_type": "markdown",
   "id": "082cd849",
   "metadata": {},
   "source": [
    "Quantile List for various aspects of the course to get more information, followed by Seaborn Histplots. "
   ]
  },
  {
   "cell_type": "code",
   "execution_count": 23,
   "id": "06e631c1",
   "metadata": {},
   "outputs": [
    {
     "name": "stdout",
     "output_type": "stream",
     "text": [
      "   Percentile       Grade      M1      M2      M3      MT      MTA         QT  \\\n",
      "0        100%  102.655172  100.00  100.00  100.00  100.00  100.000  96.551724   \n",
      "1         95%  100.314621   98.74   97.80   97.50   96.75   98.300  86.206897   \n",
      "2         90%   98.587241   94.00   95.70   95.00   96.00   97.005  81.085973   \n",
      "3         85%   97.584276   92.00   91.30   92.50   93.25   95.790  76.923077   \n",
      "4         80%   96.099586   88.00   89.10   92.34   91.20   94.660  75.000000   \n",
      "5         75%   95.055000   86.00   87.00   90.00   89.40   93.150  72.500000   \n",
      "6         70%   93.598138   78.00   84.07   87.50   86.48   92.225  69.586207   \n",
      "7         65%   91.601310   72.00   82.60   87.50   85.20   91.040  65.517241   \n",
      "8         60%   90.438000   70.00   78.30   85.00   81.63   89.015  62.785714   \n",
      "9         55%   88.938000   66.00   73.90   82.50   78.52   87.570  60.000000   \n",
      "10        50%   87.560000   62.00   69.60   79.35   76.00   85.050  58.064516   \n",
      "11        45%   86.096486   58.20   69.60   76.14   70.10   82.845  55.103448   \n",
      "12        40%   84.252000   54.00   65.20   75.00   65.63   81.330  50.000000   \n",
      "13        35%   80.989176   52.60   56.50   72.50   62.35   77.750  47.500000   \n",
      "14        30%   76.824759   48.00   52.20   65.75   55.35   74.525  45.000000   \n",
      "15        25%   72.281724   44.00   47.80   60.00   49.50   70.250  40.540541   \n",
      "16        20%   62.710857   42.00   41.30   54.04   43.96   55.760  37.357143   \n",
      "17        15%   44.386227   39.40   34.80   47.50   34.78   35.900  30.206897   \n",
      "18        10%   31.620000   34.00   26.10   35.00   25.78   26.770  25.512821   \n",
      "19         5%   22.432414   28.00   19.60   27.50   16.00   16.000   9.137931   \n",
      "20         0%    5.500000    6.00    0.00    2.50    0.00    0.000   0.000000   \n",
      "\n",
      "          QTA    HWT   Final  \n",
      "0   98.275862  100.0  100.00  \n",
      "1   92.051724  100.0  100.00  \n",
      "2   88.750000  100.0  100.00  \n",
      "3   87.500000  100.0   98.60  \n",
      "4   86.206897   99.0   97.20  \n",
      "5   83.750000   99.0   95.80  \n",
      "6   82.352941   98.0   93.38  \n",
      "7   80.000000   96.0   91.70  \n",
      "8   78.750000   95.0   91.70  \n",
      "9   76.338235   94.0   89.32  \n",
      "10  73.750000   92.0   87.50  \n",
      "11  71.025862   90.0   85.40  \n",
      "12  68.607143   88.6   82.46  \n",
      "13  61.962865   85.0   80.60  \n",
      "14  54.571429   82.0   77.80  \n",
      "15  47.500000   76.0   75.00  \n",
      "16  39.172414   68.8   72.48  \n",
      "17  30.206897   60.0   66.70  \n",
      "18  25.512821   47.4   63.20  \n",
      "19   9.137931   32.0   52.24  \n",
      "20   0.000000    5.0   16.70  \n"
     ]
    },
    {
     "data": {
      "text/plain": [
       "<function matplotlib.pyplot.show(close=None, block=None)>"
      ]
     },
     "execution_count": 23,
     "metadata": {},
     "output_type": "execute_result"
    },
    {
     "data": {
      "image/png": "[encoded data removed]",
      "text/plain": [
       "<Figure size 1080x720 with 6 Axes>"
      ]
     },
     "metadata": {},
     "output_type": "display_data"
    }
   ],
   "source": [
    "#Making Quantiles for each item\n",
    "quantiles = pd.DataFrame({\n",
    "    \"Percentile\": [str(100-5*n)+\"%\" for n in range (21)], \n",
    "    \"Grade\": np.quantile([grade for grade in list(gfs[\"Grade\"]) if str(grade) != \"nan\"], [1-n/20 for n in range(21)]),\n",
    "    \"M1\": np.quantile([grade for grade in list(gfs[\"M1\"]) if str(grade) != \"nan\"], [1-n/20 for n in range(21)]),\n",
    "    \"M2\": np.quantile([grade for grade in list(gfs[\"M2\"]) if str(grade) != \"nan\"], [1-n/20 for n in range(21)]),\n",
    "    \"M3\": np.quantile([grade for grade in list(gfs[\"M3\"]) if str(grade) != \"nan\"], [1-n/20 for n in range(21)]),\n",
    "    \"MT\": np.quantile([grade for grade in list(gfs[\"MT\"]) if str(grade) != \"nan\"], [1-n/20 for n in range(21)]),\n",
    "    \"MTA\": np.quantile([grade for grade in list(gfs[\"MTA\"]) if str(grade) != \"nan\"], [1-n/20 for n in range(21)]),\n",
    "#    \"Raw Midterm Average\": np.quantile([grade for grade in list(gfs[\"Raw Midterm Average\"]) if str(grade) != \"nan\"], [1-n/20 for n in range(21)]),\n",
    "#    \"MTot\": np.quantile([grade for grade in list(gfs[\"Raw Midterm Average\"]) if str(grade) != \"nan\"], [1-n/20 for n in range(21)]),\n",
    "    \"QT\": np.quantile([grade for grade in list(gfs[\"QT\"]) if str(grade) != \"nan\"], [1-n/20 for n in range(21)]),\n",
    "    \"QTA\": np.quantile([grade for grade in list(gfs[\"QTA\"]) if str(grade) != \"nan\"], [1-n/20 for n in range(21)]),\n",
    "    \"HWT\": np.quantile([grade for grade in list(gfs[\"HWT\"]) if str(grade) != \"nan\"], [1-n/20 for n in range(21)]),\n",
    "    \"Final\": np.quantile([grade for grade in list(gfs[\"Final\"]) if str(grade) != \"nan\"], [1-n/20 for n in range(21)]),\n",
    "})\n",
    "print(quantiles)\n",
    "\n",
    "\n",
    "#Plotting Student Scores with Seaborn's histplot\n",
    "sns.set()\n",
    "fig, axes = plt.subplots(2, 3, figsize=(15, 10))\n",
    "sns.set_palette(\"deep\")\n",
    "#Full Color List (some used below): https://matplotlib.org/stable/gallery/color/named_colors.html\n",
    "sns.histplot(x=gfs[\"MT\"], kde=True, bins=10, stat='percent', multiple = \"dodge\", ax=axes[0,0], color=\"g\")\n",
    "sns.histplot(x=gfs[\"MTA\"], kde=True, bins=10, stat='percent', multiple = \"dodge\", ax=axes[0,1], color=\"forestgreen\")\n",
    "sns.histplot(x=gfs[\"Final\"], kde=True, bins=10, stat='percent', multiple = \"dodge\", ax=axes[0,2], color=\"darkgreen\")\n",
    "sns.histplot(x=gfs[\"QT\"], kde=True, bins=10, stat='percent', multiple = \"dodge\", ax=axes[1,0], color=\"royalblue\")\n",
    "sns.histplot(x=gfs[\"QTA\"], kde=True, bins=10, stat='percent', multiple = \"dodge\", ax=axes[1,1], color=\"blueviolet\")\n",
    "sns.histplot(x=gfs[\"Grade\"], kde=True, bins=10, stat='percent', multiple = \"dodge\", ax=axes[1,2], color=\"indigo\")\n",
    "\n",
    "plt.savefig(\"Images\\Histplots 1.png\")\n",
    "plt.show"
   ]
  },
  {
   "cell_type": "markdown",
   "id": "3eb53db1",
   "metadata": {},
   "source": [
    "More Seaborn Histplots to contrast performance. "
   ]
  },
  {
   "cell_type": "code",
   "execution_count": 24,
   "id": "39daa603",
   "metadata": {},
   "outputs": [
    {
     "name": "stdout",
     "output_type": "stream",
     "text": [
      "Midterm Trends\n",
      "AxesSubplot(0.125,0.536818;0.352273x0.343182)\n",
      "AxesSubplot(0.125,0.125;0.352273x0.343182)\n",
      "AxesSubplot(0.547727,0.536818;0.352273x0.343182)\n",
      "AxesSubplot(0.547727,0.125;0.352273x0.343182)\n"
     ]
    },
    {
     "data": {
      "image/png": "[encoded data removed]",
      "text/plain": [
       "<Figure size 1080x720 with 4 Axes>"
      ]
     },
     "metadata": {},
     "output_type": "display_data"
    }
   ],
   "source": [
    "#Midterm Progress in One Vizualization\n",
    "#sns.displot(gfs[\"M1\"], kde=True, rug=True)\n",
    "print(\"Midterm Trends\")\n",
    "sns.set()\n",
    "fig, axes = plt.subplots(2, 2, figsize=(15, 10))\n",
    "sns.set_palette(\"deep\")\n",
    "print(sns.histplot(gfs[[\"M1\", \"M2\", \"M3\"]], \n",
    "                   kde=True, bins=10, stat=\"percent\", multiple = \"dodge\", ax=axes[0,0])\n",
    "     )\n",
    "print(sns.histplot(gfs[[\"M3\", \"MT\"]], \n",
    "                   kde=True, bins=10, stat=\"percent\", multiple = \"dodge\", ax=axes[1,0])\n",
    "     )\n",
    "print(sns.histplot(gfs[[\"QT\", \"QTA\"]], \n",
    "                   kde=True, bins=10, stat=\"percent\", multiple = \"dodge\", ax=axes[0,1])\n",
    "     )\n",
    "print(sns.histplot(gfs[[\"HWT\", \"Grade\"]], \n",
    "                   kde=True, bins=10, stat=\"percent\", multiple = \"dodge\", ax=axes[1,1])\n",
    "     )\n",
    "\n",
    "plt.savefig(\"Images\\Histplot 2.png\")\n",
    "plt.show()"
   ]
  },
  {
   "cell_type": "markdown",
   "id": "0067c2af",
   "metadata": {},
   "source": [
    "Miscallaneous Stats (maybe this is bloat)"
   ]
  },
  {
   "cell_type": "code",
   "execution_count": 25,
   "id": "02eb6fa0",
   "metadata": {},
   "outputs": [
    {
     "name": "stdout",
     "output_type": "stream",
     "text": [
      "Misc. Stats:\n",
      "               M1          M2          M3          MT       Final      Quiz 1  \\\n",
      "count  219.000000  202.000000  172.000000  229.000000  193.000000  206.000000   \n",
      "mean    63.363470   65.690099   72.573837   67.084279   82.863731    4.905340   \n",
      "std     22.750059   25.441242   22.938776   26.911653   16.941135    0.496839   \n",
      "min      6.000000    0.000000    2.500000    0.000000   16.700000    1.300000   \n",
      "25%     44.000000   47.800000   60.000000   49.500000   75.000000    5.000000   \n",
      "50%     62.000000   69.600000   79.350000   76.000000   87.500000    5.000000   \n",
      "75%     86.000000   87.000000   90.000000   89.400000   95.800000    5.000000   \n",
      "max    100.000000  100.000000  100.000000  100.000000  100.000000    5.000000   \n",
      "\n",
      "           Quiz 2      Quiz 3      Quiz 4      Quiz 5      Quiz 6      Quiz 7  \\\n",
      "count  196.000000  188.000000  199.000000  178.000000  193.000000  174.000000   \n",
      "mean     1.665306    3.704787    4.140704    1.394944    2.777202    1.662644   \n",
      "std      1.056516    1.072420    1.256418    1.003850    1.675621    1.016418   \n",
      "min      0.000000    0.000000    0.000000    0.000000    0.000000    0.000000   \n",
      "25%      1.000000    3.000000    3.400000    1.000000    1.000000    1.000000   \n",
      "50%      2.000000    4.000000    5.000000    1.000000    3.000000    2.000000   \n",
      "75%      2.000000    5.000000    5.000000    2.000000    4.000000    2.225000   \n",
      "max      4.000000    5.000000    5.000000    3.000000    6.000000    3.000000   \n",
      "\n",
      "           Quiz 8          QT         HWT  \n",
      "count  163.000000  229.000000  225.000000  \n",
      "mean     1.762577   54.890234   82.773333  \n",
      "std      0.893535   22.765460   22.298046  \n",
      "min      0.000000    0.000000    5.000000  \n",
      "25%      1.000000   40.540541   76.000000  \n",
      "50%      2.000000   58.064516   92.000000  \n",
      "75%      2.000000   72.500000   99.000000  \n",
      "max      3.000000   96.551724  100.000000  \n"
     ]
    }
   ],
   "source": [
    "print(\"Misc. Stats:\")\n",
    "print(gfs[[\"M1\", \"M2\", \"M3\", \"MT\", \"Final\"]+[\"Quiz \"+str(i) for i in range(1,9)] + [\"QT\"]+[\"HWT\"]].describe())"
   ]
  }
 ],
 "metadata": {
  "kernelspec": {
   "display_name": "Python 3 (ipykernel)",
   "language": "python",
   "name": "python3"
  },
  "language_info": {
   "codemirror_mode": {
    "name": "ipython",
    "version": 3
   },
   "file_extension": ".py",
   "mimetype": "text/x-python",
   "name": "python",
   "nbconvert_exporter": "python",
   "pygments_lexer": "ipython3",
   "version": "3.9.7"
  }
 },
 "nbformat": 4,
 "nbformat_minor": 5
}
